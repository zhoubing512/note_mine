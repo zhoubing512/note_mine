{
 "cells": [
  {
   "cell_type": "code",
   "execution_count": 1,
   "metadata": {},
   "outputs": [
    {
     "name": "stdout",
     "output_type": "stream",
     "text": [
      "2.0.0-rc1\n"
     ]
    }
   ],
   "source": [
    "import tensorflow as tf\n",
    "print(tf.__version__)"
   ]
  },
  {
   "cell_type": "code",
   "execution_count": 2,
   "metadata": {},
   "outputs": [
    {
     "name": "stdout",
     "output_type": "stream",
     "text": [
      "True\n"
     ]
    }
   ],
   "source": [
    "print(tf.test.is_gpu_available())"
   ]
  },
  {
   "cell_type": "markdown",
   "metadata": {},
   "source": [
    "# 张量"
   ]
  },
  {
   "cell_type": "code",
   "execution_count": 3,
   "metadata": {},
   "outputs": [
    {
     "name": "stdout",
     "output_type": "stream",
     "text": [
      "0\n",
      "[]\n"
     ]
    }
   ],
   "source": [
    "# Rank 0\n",
    "mammal=tf.Variable(\"Elephant\",tf.string)\n",
    "tf.print(tf.rank(mammal))\n",
    "tf.print(tf.shape(mammal))\n"
   ]
  },
  {
   "cell_type": "code",
   "execution_count": 4,
   "metadata": {},
   "outputs": [
    {
     "name": "stdout",
     "output_type": "stream",
     "text": [
      "tf.Tensor(0, shape=(), dtype=int32)\n"
     ]
    }
   ],
   "source": [
    "print(tf.rank(mammal))"
   ]
  },
  {
   "cell_type": "code",
   "execution_count": 5,
   "metadata": {},
   "outputs": [
    {
     "name": "stdout",
     "output_type": "stream",
     "text": [
      "1\n",
      "[1]\n"
     ]
    }
   ],
   "source": [
    "#Rank 1\n",
    "mystr=tf.Variable([\"Hello\"],tf.string)\n",
    "tf.print(tf.rank(mystr))\n",
    "tf.print(tf.shape(mystr))\n"
   ]
  },
  {
   "cell_type": "code",
   "execution_count": 6,
   "metadata": {},
   "outputs": [
    {
     "name": "stdout",
     "output_type": "stream",
     "text": [
      "2\n",
      "[2 1]\n"
     ]
    }
   ],
   "source": [
    "#Rank 2\n",
    "mymat=tf.Variable([[7],[11]],tf.int16)\n",
    "tf.print(tf.rank(mymat))\n",
    "tf.print(tf.shape(mymat))\n"
   ]
  },
  {
   "cell_type": "markdown",
   "metadata": {},
   "source": [
    "创建张量"
   ]
  },
  {
   "cell_type": "code",
   "execution_count": 7,
   "metadata": {},
   "outputs": [
    {
     "data": {
      "text/plain": [
       "<tf.Tensor: id=42, shape=(3,), dtype=int16, numpy=array([1, 2, 3], dtype=int16)>"
      ]
     },
     "execution_count": 7,
     "metadata": {},
     "output_type": "execute_result"
    }
   ],
   "source": [
    "tf.constant([1,2,3],dtype=tf.int16)"
   ]
  },
  {
   "cell_type": "code",
   "execution_count": 8,
   "metadata": {},
   "outputs": [
    {
     "data": {
      "text/plain": [
       "<tf.Tensor: id=45, shape=(2, 2), dtype=int16, numpy=\n",
       "array([[0, 0],\n",
       "       [0, 0]], dtype=int16)>"
      ]
     },
     "execution_count": 8,
     "metadata": {},
     "output_type": "execute_result"
    }
   ],
   "source": [
    "tf.zeros((2,2),dtype=tf.int16)"
   ]
  },
  {
   "cell_type": "code",
   "execution_count": 17,
   "metadata": {},
   "outputs": [],
   "source": [
    "#reshape\n",
    "rank_three_tensor=tf.ones([3,4,5])\n",
    "matrix=tf.reshape(rank_three_tensor,[6,10])"
   ]
  },
  {
   "cell_type": "code",
   "execution_count": null,
   "metadata": {},
   "outputs": [],
   "source": [
    "yet_another=tf.reshape(rank_three_tensor,[8, 10])#报错"
   ]
  },
  {
   "cell_type": "code",
   "execution_count": null,
   "metadata": {},
   "outputs": [],
   "source": []
  },
  {
   "cell_type": "code",
   "execution_count": null,
   "metadata": {},
   "outputs": [],
   "source": []
  },
  {
   "cell_type": "markdown",
   "metadata": {},
   "source": [
    "# 操作\n",
    "\n",
    "- tf.strings\n",
    "- tf.debugging\n",
    "- tf.dtypes\n",
    "- tf.math\n",
    "- tf.random\n",
    "- tf.feature_column  [建议参考](https://www.tensorflow.org/tutorials/structured_data/feature_columns)，常用于特征处理.\n"
   ]
  },
  {
   "cell_type": "markdown",
   "metadata": {},
   "source": [
    "## tf.strings"
   ]
  },
  {
   "cell_type": "code",
   "execution_count": 9,
   "metadata": {},
   "outputs": [
    {
     "data": {
      "text/plain": [
       "<tf.Tensor: id=104, shape=(5,), dtype=string, numpy=array([b'h', b'e', b'l', b'l', b'o'], dtype=object)>"
      ]
     },
     "execution_count": 9,
     "metadata": {},
     "output_type": "execute_result"
    }
   ],
   "source": [
    "#字符切割\n",
    "tf.strings.bytes_split('hello')"
   ]
  },
  {
   "cell_type": "code",
   "execution_count": null,
   "metadata": {},
   "outputs": [],
   "source": [
    "help(tf.strings.split)"
   ]
  },
  {
   "cell_type": "code",
   "execution_count": 20,
   "metadata": {},
   "outputs": [
    {
     "data": {
      "text/plain": [
       "<tf.Tensor: id=699, shape=(2,), dtype=string, numpy=array([b'hello', b'world'], dtype=object)>"
      ]
     },
     "execution_count": 20,
     "metadata": {},
     "output_type": "execute_result"
    }
   ],
   "source": [
    "#单词切割\n",
    "tf.strings.split('hello world')"
   ]
  },
  {
   "cell_type": "code",
   "execution_count": 22,
   "metadata": {},
   "outputs": [
    {
     "data": {
      "text/plain": [
       "<tf.Tensor: id=701, shape=(2,), dtype=int64, numpy=array([8, 1], dtype=int64)>"
      ]
     },
     "execution_count": 22,
     "metadata": {},
     "output_type": "execute_result"
    }
   ],
   "source": [
    "#string hash\n",
    "tf.strings.to_hash_bucket(['hello','world'], num_buckets=10)"
   ]
  },
  {
   "cell_type": "markdown",
   "metadata": {},
   "source": [
    "## tf.debugging"
   ]
  },
  {
   "cell_type": "code",
   "execution_count": 23,
   "metadata": {},
   "outputs": [],
   "source": [
    "#tf自带debug函数\n",
    "a=tf.random.uniform((10,10))\n",
    "tf.debugging.assert_equal(x=a.shape,y=(10,10))\n"
   ]
  },
  {
   "cell_type": "code",
   "execution_count": null,
   "metadata": {},
   "outputs": [],
   "source": [
    "#错误示范\n",
    "tf.debugging.assert_equal(x=a.shape,y=(20,10))"
   ]
  },
  {
   "cell_type": "markdown",
   "metadata": {},
   "source": [
    "## tf.random\n"
   ]
  },
  {
   "cell_type": "code",
   "execution_count": 25,
   "metadata": {},
   "outputs": [
    {
     "data": {
      "text/plain": [
       "<tf.Tensor: id=781, shape=(10, 5), dtype=float32, numpy=\n",
       "array([[7.337245  , 8.563206  , 0.12907624, 7.0185113 , 6.942792  ],\n",
       "       [8.801897  , 0.03558278, 0.71659565, 9.032879  , 2.803135  ],\n",
       "       [6.875329  , 5.959874  , 4.161513  , 8.744188  , 3.4625864 ],\n",
       "       [0.5550134 , 6.3781047 , 5.8278823 , 2.9698002 , 0.16484618],\n",
       "       [7.8418264 , 9.058552  , 1.5147066 , 0.60814023, 5.9776535 ],\n",
       "       [8.623667  , 5.124526  , 7.912209  , 7.0718718 , 7.3142266 ],\n",
       "       [8.501612  , 1.7961097 , 6.5727043 , 0.8518863 , 6.5302753 ],\n",
       "       [9.651488  , 1.1181915 , 7.478503  , 4.9840236 , 5.1185536 ],\n",
       "       [4.7294226 , 3.1436408 , 9.654947  , 5.030531  , 3.061322  ],\n",
       "       [7.6798067 , 1.7466497 , 4.6031084 , 5.355513  , 8.813373  ]],\n",
       "      dtype=float32)>"
      ]
     },
     "execution_count": 25,
     "metadata": {},
     "output_type": "execute_result"
    }
   ],
   "source": [
    "a = tf.random.uniform(shape=(10,5),minval=0,maxval=10)\n",
    "a"
   ]
  },
  {
   "cell_type": "markdown",
   "metadata": {},
   "source": [
    "## tf.math"
   ]
  },
  {
   "cell_type": "code",
   "execution_count": 27,
   "metadata": {},
   "outputs": [
    {
     "name": "stdout",
     "output_type": "stream",
     "text": [
      "[[6 8]\n",
      " [10 12]]\n",
      "[[-4 -4]\n",
      " [-4 -4]]\n",
      "[[5 12]\n",
      " [21 32]]\n",
      "[[0.2 0.33333333333333331]\n",
      " [0.42857142857142855 0.5]]\n"
     ]
    }
   ],
   "source": [
    "a = tf.constant([[1,2],[3,4]])\n",
    "b = tf.constant([[5,6],[7,8]])\n",
    "\n",
    "tf.print(tf.math.add(a,b))\n",
    "tf.print(tf.math.subtract(a,b))\n",
    "tf.print(tf.math.multiply(a,b))\n",
    "tf.print(tf.math.divide(a,b))"
   ]
  },
  {
   "cell_type": "code",
   "execution_count": 28,
   "metadata": {},
   "outputs": [
    {
     "name": "stdout",
     "output_type": "stream",
     "text": [
      "tf.Tensor(\n",
      "[[ 6  8]\n",
      " [10 12]], shape=(2, 2), dtype=int32)\n"
     ]
    }
   ],
   "source": [
    "print(tf.math.add(a,b))"
   ]
  },
  {
   "cell_type": "markdown",
   "metadata": {},
   "source": [
    "## tf.dtypes"
   ]
  },
  {
   "cell_type": "code",
   "execution_count": 29,
   "metadata": {},
   "outputs": [
    {
     "data": {
      "text/plain": [
       "<tf.Tensor: id=796, shape=(2,), dtype=int32, numpy=array([1, 2])>"
      ]
     },
     "execution_count": 29,
     "metadata": {},
     "output_type": "execute_result"
    }
   ],
   "source": [
    "x =tf.constant([1.8,2.2],dtype=tf.float32)\n",
    "\n",
    "x1=tf.dtypes.cast(x,tf.int32)\n",
    "x1"
   ]
  },
  {
   "cell_type": "code",
   "execution_count": null,
   "metadata": {},
   "outputs": [],
   "source": []
  },
  {
   "cell_type": "markdown",
   "metadata": {},
   "source": [
    "# 常用层\n",
    "\n",
    "- tf.keras.layers\n",
    "- tf.nn\n",
    "\n",
    "在大多数据情况下，可以使用TensorFlow封装的tf.keras.layers构建的一些层建模，Keras层是非常有用的。\n",
    "\n",
    "可以在[文档中](https://www.tensorflow.org/api_docs/python/tf/keras/layers)查看预先存在的层的完整列表。它包括Dense，Conv2D，LSTM，BatchNormalization，Dropout等。"
   ]
  },
  {
   "cell_type": "code",
   "execution_count": 39,
   "metadata": {},
   "outputs": [],
   "source": [
    "#文本分类\n",
    "\n",
    "a = tf.random.uniform(shape = (10,100,50),minval=-0.5,maxval=0.5) #张量\n",
    "\n",
    "x = tf.keras.layers.LSTM(100)(a) #LSTM\n",
    "\n",
    "x = tf.keras.layers.Dense(10)(x) #全连接层\n",
    "\n",
    "x = tf.nn.softmax(x) #激活函数\n",
    "\n"
   ]
  },
  {
   "cell_type": "markdown",
   "metadata": {},
   "source": [
    "增加层的参数配置"
   ]
  },
  {
   "cell_type": "code",
   "execution_count": 41,
   "metadata": {},
   "outputs": [
    {
     "data": {
      "text/plain": [
       "<tensorflow.python.keras.layers.core.Dense at 0x1e277cdeeb8>"
      ]
     },
     "execution_count": 41,
     "metadata": {},
     "output_type": "execute_result"
    }
   ],
   "source": [
    "#层中增加激活函数\n",
    "tf.keras.layers.Dense(64, activation='relu')\n",
    "#or\n",
    "tf.keras.layers.Dense(64, activation=tf.nn.relu)\n",
    "\n",
    "\n",
    "#将L1正则化系数为0.01的线性层应用于内核矩阵\n",
    "tf.keras.layers.Dense(64, kernel_regularizer=tf.keras.regularizers.l1(0.01))\n",
    "\n",
    "# 将L2正则化系数为0.01的线性层应用于偏差向量：\n",
    "tf.keras.layers.Dense(64, bias_regularizer=tf.keras.regularizers.l2(0.01))\n",
    "\n",
    "# 内核初始化为随机正交矩阵的线性层：\n",
    "tf.keras.layers.Dense(64, kernel_initializer='orthogonal')\n",
    "\n",
    "# 偏差向量初始化为2.0的线性层：\n",
    "tf.keras.layers.Dense(64, bias_initializer=tf.keras.initializers.Constant(2.0))"
   ]
  },
  {
   "cell_type": "code",
   "execution_count": null,
   "metadata": {},
   "outputs": [],
   "source": []
  },
  {
   "cell_type": "code",
   "execution_count": null,
   "metadata": {},
   "outputs": [],
   "source": []
  }
 ],
 "metadata": {
  "kernelspec": {
   "display_name": "Python 3",
   "language": "python",
   "name": "python3"
  },
  "language_info": {
   "codemirror_mode": {
    "name": "ipython",
    "version": 3
   },
   "file_extension": ".py",
   "mimetype": "text/x-python",
   "name": "python",
   "nbconvert_exporter": "python",
   "pygments_lexer": "ipython3",
   "version": "3.7.0"
  }
 },
 "nbformat": 4,
 "nbformat_minor": 4
}
